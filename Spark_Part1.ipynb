{
 "cells": [
  {
   "cell_type": "markdown",
   "metadata": {},
   "source": [
    "\n",
    "#A little bit of Spark is all you need:\n",
    "\n",
    "##The Problem\n",
    "\n",
    "I generally have a use case for Hadoop in my daily job. It has made my life easier in a sense that I am able to get results which I was not able to see with SQL queries. But still I find it painfully slow. \n",
    "I have to write procedural programs while I work. As in merge these two datasets and then filter and then merge another dataset and then filter using some condition and yada-yada. \n",
    "You get the gist. And in hadoop its painstakingly boring to do this. You have to write more than maybe 3 Mapreduce Jobs. One job will read the data line by line and write to the disk. \n",
    "\n",
    "There is a lot of data movement that happens in between that further affects the speed.\n",
    "Another thing I hate is that there is no straight way to pass files to mappers and reducers and that generally adds up another mapreduce job to the whole sequence.\n",
    "\n",
    "And that is just procedural tasks. To implement an iterative algorithm even after geting the whole logic of parallelization is again a challenge. There would be a lot of mapreduce tasks, a shell based driver program and a lot of unique thinking to bring everything together. And the running times are like crazy. I am like \n",
    "\n",
    "    \"It is ok if you want me to create the code, but please don't ask me to run it\".\n",
    "\n",
    "That makes me think about the whole way Hadoop is implemented. While at the time Hadoop appeared the RAM was costly. \n",
    "Now that is not the case. We already have 64GB machines in our Hadoop cluster. So is it really a good idea to not use a larger chunk of memory and read line by line. \n",
    "Also can we have something that allows us to keep a particular piece of data in the memory, So that the next time our program needs it it doesnt have to read it again and waste time. \n",
    "Wouldnt it be better if we have some variable that lets us keep the state our iterative algorithm is in.\n",
    "\n",
    "## The Solution?\n",
    "\n",
    "And here is where Spark comes to rescue. Now working on Spark is very different from Hadoop but when you start using it you find that it makes things so much easier. You still do have to think in the mapreduce way sort of but the way the map and reduce steps are done are a little bit different. \n",
    "\n",
    "So lets first get Spark on our System (But keep in mind that for running spark in production environments you will\n",
    "need whole clusters set up. A liberty which you may or may not have at present)\n",
    "\n",
    "The best way that I found to install Spark is following the Apache Spark installation guidelines with the Apache Spark eDx course. It lets you get Spark in your system and work with Spark with iPython notebooks. Something I prefer a lot and find the best way to code in Python.\n",
    "\n",
    "The installation instructions can be found [HERE](https://courses.edx.org/courses/BerkeleyX/CS100.1x/1T2015/courseware/d1f293d0cb53466dbb5c0cd81f55b45b/920d3370060540c8b21d56f05c64bdda/)"
   ]
  },
  {
   "cell_type": "code",
   "execution_count": 47,
   "metadata": {
    "collapsed": false
   },
   "outputs": [
    {
     "name": "stdout",
     "output_type": "stream",
     "text": [
      ": 505702\n",
      "fawn: 11\n",
      "Fame,: 3\n",
      "mustachio: 1\n",
      "protested,: 1\n",
      "sending.: 3\n",
      "offendeth: 1\n",
      "instant;: 1\n",
      "scold: 4\n",
      "Sergeant.: 1\n"
     ]
    }
   ],
   "source": [
    "lines = sc.textFile(\"data/cs100/lab1/shakespeare.txt\")   # Distribute the data - Create a RDD \n",
    "\n",
    "counts = (lines.flatMap(lambda x: x.split(' '))          # Create a list with all words\n",
    "                  .map(lambda x: (x, 1))                 # Create a tuple for every word, (word,1)\n",
    "                  .reduceByKey(lambda x,y : x + y))      # reduce by key i.e. the word\n",
    "\n",
    "output = counts.take(10)                                 # get the output on local\n",
    "\n",
    "for (word, count) in output:                             # print output\n",
    "    print(\"%s: %i\" % (word, count))\n",
    "\n"
   ]
  },
  {
   "cell_type": "markdown",
   "metadata": {},
   "source": [
    "So that is a small example. Pretty small code when you compare it with Hadoop. And most of the work gets done in the second command. \n",
    "Don't worry if you are not able to follow this yet as I need to tell you about the things that make Spark work.\n",
    "\n",
    "But before we get into Spark basics, Let us refresh some of our python Basics. Understanding Spark becomes a lot easier if you have used Lambda functions in Python.\n",
    "\n",
    "For those of you who haven't used it, below is a brief intro.\n",
    "\n",
    "###Lambda Functions in Python\n",
    "####Map\n",
    "Map is used to map a function to a array or a list. Say you want to apply some function to every element in a list. You can do this by simply using a for loop but python lambda functions let you do this in a single line in Python.\n",
    "\n",
    "\n"
   ]
  },
  {
   "cell_type": "code",
   "execution_count": 48,
   "metadata": {
    "collapsed": false
   },
   "outputs": [
    {
     "name": "stdout",
     "output_type": "stream",
     "text": [
      "[1, 4, 9, 16, 25, 36, 49, 64, 81, 100]\n"
     ]
    }
   ],
   "source": [
    "my_list = [1,2,3,4,5,6,7,8,9,10]\n",
    "# Lets say I want to square each term in my_list.\n",
    "squared_list = map(lambda x:x**2,my_list)\n",
    "print squared_list"
   ]
  },
  {
   "cell_type": "markdown",
   "metadata": {},
   "source": [
    "In the above example you could think of map as a function which takes two arguments - A function and a list. It then applies the function to every element of the list. What lambda allows you to do is write an inline function. In here the part **\"lambda x:x\\*\\*2\"** defines a function that takes x as input and returns x^2.\n",
    "\n",
    "You could have also provided a proper function in place of lambda. For Example:"
   ]
  },
  {
   "cell_type": "code",
   "execution_count": 49,
   "metadata": {
    "collapsed": false
   },
   "outputs": [
    {
     "name": "stdout",
     "output_type": "stream",
     "text": [
      "[1, 4, 9, 16, 25, 36, 49, 64, 81, 100]\n"
     ]
    }
   ],
   "source": [
    "def squared(x):\n",
    "    return x**2\n",
    "\n",
    "my_list = [1,2,3,4,5,6,7,8,9,10]\n",
    "# Lets say I want to square each term in my_list.\n",
    "squared_list = map(squared,my_list)\n",
    "print squared_list"
   ]
  },
  {
   "cell_type": "markdown",
   "metadata": {},
   "source": [
    "The same result, but the lambda expressions make the code compact and a lot more readable. \n",
    "\n",
    "####Filter\n",
    "\n",
    "The other function that is used extensively is the filter function. This function takes two arguments - A condition and the list to filter. If you want to filter your list using some condition you use filter."
   ]
  },
  {
   "cell_type": "code",
   "execution_count": 50,
   "metadata": {
    "collapsed": false
   },
   "outputs": [
    {
     "name": "stdout",
     "output_type": "stream",
     "text": [
      "[2, 4, 6, 8, 10]\n"
     ]
    }
   ],
   "source": [
    "my_list = [1,2,3,4,5,6,7,8,9,10]\n",
    "# Lets say I want only the even numbers in my list.\n",
    "filtered_list = filter(lambda x:x%2==0,my_list)\n",
    "print filtered_list"
   ]
  },
  {
   "cell_type": "markdown",
   "metadata": {},
   "source": [
    "####Reduce\n",
    "\n",
    "The next function is the reduce function. This function will be the workhorse in Spark. This function takes two arguments - a function to reduce that takes two arguments, and a list over which the reduce function is to be applied.\n"
   ]
  },
  {
   "cell_type": "code",
   "execution_count": 51,
   "metadata": {
    "collapsed": false
   },
   "outputs": [
    {
     "name": "stdout",
     "output_type": "stream",
     "text": [
      "15\n"
     ]
    }
   ],
   "source": [
    "my_list = [1,2,3,4,5]\n",
    "# Lets say I want to sum all elements in my list.\n",
    "sum_list = reduce(lambda x,y:x+y,my_list)\n",
    "print sum_list"
   ]
  },
  {
   "cell_type": "markdown",
   "metadata": {},
   "source": [
    "Here the lambda function takes in two values x, y and returns their sum. Intuitively you can think that the reduce function works as:\n",
    "\n",
    "    Reduce function first sends 1,2    ; the lambda function returns 3\n",
    "    Reduce function then sends 3,3     ; the lambda function returns 6\n",
    "    Reduce function then sends 6,4     ; the lambda function returns 10\n",
    "    Reduce function finally sends 10,5 ; the lambda function returns 15\n",
    "    \n",
    "A condition on the lambda function we use in reduce is that it must be commutative that is a + b = b + a and associative that is (a + b) + c == a + (b + c). \n",
    "In the above case we used sum which is **commutative as well as associative**. Other functions that we could have used are **max, min, multiplication** etc."
   ]
  },
  {
   "cell_type": "markdown",
   "metadata": {},
   "source": [
    "##Moving Again to Spark\n",
    "\n",
    "As we have now got the fundamentals of Python Functional Programming out of the way, lets again head to Spark. \n",
    "\n",
    "But first let us delve a little bit into how spark works. Spark actually consists of two things a driver and workers. Workers normally do all the work and the driver makes them do that work. \n",
    "\n",
    "An RDD is defined a parallelized data structure that gets distributed across the worker nodes. In our wordcount example, in the first line\n",
    "\n",
    "    lines = sc.textFile(\"data/cs100/lab1/shakespeare.txt\")\n",
    "\n",
    "We took a text file and distributed it across worker nodes so that they can work on it in parallel.\n",
    "We could also parallelize lists using the function \n",
    "\n",
    "    sc.parallelize\n",
    "\n",
    "For example:"
   ]
  },
  {
   "cell_type": "code",
   "execution_count": 52,
   "metadata": {
    "collapsed": false
   },
   "outputs": [
    {
     "data": {
      "text/plain": [
       "ParallelCollectionRDD[422] at parallelize at PythonRDD.scala:392"
      ]
     },
     "execution_count": 52,
     "metadata": {},
     "output_type": "execute_result"
    }
   ],
   "source": [
    "data = [1,2,3,4,5,6,7,8,9,10]\n",
    "new_rdd = sc.parallelize(data,4)\n",
    "new_rdd"
   ]
  },
  {
   "cell_type": "markdown",
   "metadata": {},
   "source": [
    "In Spark we classify the operations into two Basic Types: Transformations and Actions.\n",
    "1. **Transformations** : Create new datasets from existing RDDs\n",
    "2. **Actions** : Mechanism to get results out of Spark"
   ]
  },
  {
   "cell_type": "markdown",
   "metadata": {},
   "source": [
    "###Understanding Transformations"
   ]
  },
  {
   "cell_type": "markdown",
   "metadata": {},
   "source": [
    "So lets say you have got your data in the form of an RDD. To requote your data is now accesible b all the worker machines. You want to do some transformations on the data now. You may want to filter, Apply some function etc. In Spark this is done using Transformation functions. Spark provides many transformation functions. You can see a comprehensive list [here](http://spark.apache.org/docs/latest/programming-guide.html#transformations).\n",
    "Some of the main ones that I use frequently are:\n",
    "\n",
    "#####1. Map:\n",
    "Applies a given function to an RDD. Note that the syntax is a little bit different from python, but it necessarily does the same thing. Don't worry about collet yet. For now just think of it as a function that collects the data in squared_rdd back to a list."
   ]
  },
  {
   "cell_type": "code",
   "execution_count": 53,
   "metadata": {
    "collapsed": false
   },
   "outputs": [
    {
     "data": {
      "text/plain": [
       "[1, 4, 9, 16, 25, 36, 49, 64, 81, 100]"
      ]
     },
     "execution_count": 53,
     "metadata": {},
     "output_type": "execute_result"
    }
   ],
   "source": [
    "data = [1,2,3,4,5,6,7,8,9,10]\n",
    "rdd = sc.parallelize(data,4)\n",
    "squared_rdd = rdd.map(lambda x:x**2)\n",
    "squared_rdd.collect()"
   ]
  },
  {
   "cell_type": "markdown",
   "metadata": {},
   "source": [
    "#####2. Filter:\n",
    "Again no surprises here. Takes as input a condition and keeps only those elements that fulfill that condition."
   ]
  },
  {
   "cell_type": "code",
   "execution_count": 54,
   "metadata": {
    "collapsed": false
   },
   "outputs": [
    {
     "data": {
      "text/plain": [
       "[2, 4, 6, 8, 10]"
      ]
     },
     "execution_count": 54,
     "metadata": {},
     "output_type": "execute_result"
    }
   ],
   "source": [
    "data = [1,2,3,4,5,6,7,8,9,10]\n",
    "rdd = sc.parallelize(data,4)\n",
    "filtered_rdd = rdd.filter(lambda x:x%2==0)\n",
    "filtered_rdd.collect()"
   ]
  },
  {
   "cell_type": "markdown",
   "metadata": {},
   "source": [
    "#####3. Distinct:\n",
    "Returns only distinct elements in an RDD"
   ]
  },
  {
   "cell_type": "code",
   "execution_count": 55,
   "metadata": {
    "collapsed": false
   },
   "outputs": [
    {
     "data": {
      "text/plain": [
       "[8, 4, 1, 5, 9, 2, 10, 6, 3, 7]"
      ]
     },
     "execution_count": 55,
     "metadata": {},
     "output_type": "execute_result"
    }
   ],
   "source": [
    "data = [1,2,2,2,2,3,3,3,3,4,5,6,7,7,7,8,8,8,9,10]\n",
    "rdd = sc.parallelize(data,4)\n",
    "distinct_rdd = rdd.distinct()\n",
    "distinct_rdd.collect()"
   ]
  },
  {
   "cell_type": "markdown",
   "metadata": {},
   "source": [
    "#####4. Flatmap:\n",
    "Similar to map, but each input item can be mapped to 0 or more output items"
   ]
  },
  {
   "cell_type": "code",
   "execution_count": 56,
   "metadata": {
    "collapsed": false
   },
   "outputs": [
    {
     "data": {
      "text/plain": [
       "[1, 1, 2, 8, 3, 27, 4, 64]"
      ]
     },
     "execution_count": 56,
     "metadata": {},
     "output_type": "execute_result"
    }
   ],
   "source": [
    "data = [1,2,3,4]\n",
    "rdd = sc.parallelize(data,4)\n",
    "flat_rdd = rdd.flatMap(lambda x:[x,x**3])\n",
    "flat_rdd.collect()"
   ]
  },
  {
   "cell_type": "markdown",
   "metadata": {},
   "source": [
    "#####5. Reduce By Key:\n",
    "The analogue to the reduce in Hadoop Mapreduce. Now Spark cannot provide the value if it just worked with Lists. In Spark there is a concept of pair RDDs that makes it a lot more flexible. Lets assume we have a data in which we have product, its category and its selling price. We can still parallelize the data."
   ]
  },
  {
   "cell_type": "code",
   "execution_count": 57,
   "metadata": {
    "collapsed": true
   },
   "outputs": [],
   "source": [
    "data = [('Apple','Fruit',200),('Banana','Fruit',24),('Tomato','Fruit',56),('Potato','Vegetable',103),('Carrot','Vegetable',34)]\n",
    "rdd = sc.parallelize(data,4)"
   ]
  },
  {
   "cell_type": "markdown",
   "metadata": {},
   "source": [
    "Right now our RDD rdd holds tuples. Now we want to find out the total sum of revenue that we got from each category. To do that we have to transform our rdd to a pair rdd so that it only contatins key-value pairs/tuples."
   ]
  },
  {
   "cell_type": "code",
   "execution_count": 58,
   "metadata": {
    "collapsed": false
   },
   "outputs": [
    {
     "data": {
      "text/plain": [
       "[('Fruit', 200),\n",
       " ('Fruit', 24),\n",
       " ('Fruit', 56),\n",
       " ('Vegetable', 103),\n",
       " ('Vegetable', 34)]"
      ]
     },
     "execution_count": 58,
     "metadata": {},
     "output_type": "execute_result"
    }
   ],
   "source": [
    "category_price_rdd = rdd.map(lambda x: (x[1],x[2]))\n",
    "category_price_rdd.collect()"
   ]
  },
  {
   "cell_type": "markdown",
   "metadata": {},
   "source": [
    "Here we used the map function to get it in the format we wanted. When working with textfile, the rdd that gets formed has got a lot of strings. We use map to convert it into a format that we want. \n",
    "\n",
    "So now our category_price_rdd contains the product category and the price at which the prouct sold. Now we want to reduce on the key and sum the prices. We can do this by:"
   ]
  },
  {
   "cell_type": "code",
   "execution_count": 59,
   "metadata": {
    "collapsed": false
   },
   "outputs": [
    {
     "data": {
      "text/plain": [
       "[('Vegetable', 137), ('Fruit', 280)]"
      ]
     },
     "execution_count": 59,
     "metadata": {},
     "output_type": "execute_result"
    }
   ],
   "source": [
    "category_total_price_rdd = category_price_rdd.reduceByKey(lambda x,y:x+y)\n",
    "category_total_price_rdd.collect()"
   ]
  },
  {
   "cell_type": "markdown",
   "metadata": {},
   "source": [
    "#####6. Group By Key:\n",
    "Similar to reduce by key but does not reduce just puts all the elements in an iterator. For example if we wanted to keep as key the category and as the value all the products we would use this function."
   ]
  },
  {
   "cell_type": "code",
   "execution_count": 60,
   "metadata": {
    "collapsed": false
   },
   "outputs": [
    {
     "data": {
      "text/plain": [
       "[('Fruit', 'Apple'),\n",
       " ('Fruit', 'Banana'),\n",
       " ('Fruit', 'Tomato'),\n",
       " ('Vegetable', 'Potato'),\n",
       " ('Vegetable', 'Carrot')]"
      ]
     },
     "execution_count": 60,
     "metadata": {},
     "output_type": "execute_result"
    }
   ],
   "source": [
    "data = [('Apple','Fruit',200),('Banana','Fruit',24),('Tomato','Fruit',56),('Potato','Vegetable',103),('Carrot','Vegetable',34)]\n",
    "rdd = sc.parallelize(data,4)\n",
    "category_product_rdd = rdd.map(lambda x: (x[1],x[0]))\n",
    "category_product_rdd.collect()"
   ]
  },
  {
   "cell_type": "code",
   "execution_count": 61,
   "metadata": {
    "collapsed": false
   },
   "outputs": [
    {
     "name": "stdout",
     "output_type": "stream",
     "text": [
      "[('Vegetable', <pyspark.resultiterable.ResultIterable object at 0xb0b9544c>), ('Fruit', <pyspark.resultiterable.ResultIterable object at 0xb0b9532c>)]\n"
     ]
    }
   ],
   "source": [
    "grouped_products_by_category_rdd = category_product_rdd.groupByKey()\n",
    "findata = grouped_products_by_category_rdd.collect()\n",
    "print findata"
   ]
  },
  {
   "cell_type": "markdown",
   "metadata": {},
   "source": [
    "Here the grouped by function worked and it returned the category and the list of products in that category. You can see the results by using:"
   ]
  },
  {
   "cell_type": "code",
   "execution_count": 62,
   "metadata": {
    "collapsed": false
   },
   "outputs": [
    {
     "name": "stdout",
     "output_type": "stream",
     "text": [
      "Vegetable ['Potato', 'Carrot']\n",
      "Fruit ['Apple', 'Banana', 'Tomato']\n"
     ]
    }
   ],
   "source": [
    "for data in findata:\n",
    "    print data[0],list(data[1])"
   ]
  },
  {
   "cell_type": "markdown",
   "metadata": {},
   "source": [
    "###Understanding Actions"
   ]
  },
  {
   "cell_type": "markdown",
   "metadata": {},
   "source": [
    "Now you have filtered your data, mapped some functions on it. Done your computation. Now you want to get the data on your local machine or save it to a file. You will have to use actions for that. A comprehensive list of actions is providede [HERE](http://spark.apache.org/docs/latest/programming-guide.html#actions)\n",
    "Some of the most common actions that I tend to use are:"
   ]
  },
  {
   "cell_type": "markdown",
   "metadata": {},
   "source": [
    "#####1. Collect:\n",
    "We have already used this actio many times. It takes the whole rdd and brings it back to the driver program."
   ]
  },
  {
   "cell_type": "markdown",
   "metadata": {},
   "source": [
    "#####2. Reduce:\n",
    "Aggregate the elements of the dataset using a function func (which takes two arguments and returns one). The function should be commutative and associative so that it can be computed correctly in parallel. "
   ]
  },
  {
   "cell_type": "code",
   "execution_count": 63,
   "metadata": {
    "collapsed": false
   },
   "outputs": [
    {
     "data": {
      "text/plain": [
       "15"
      ]
     },
     "execution_count": 63,
     "metadata": {},
     "output_type": "execute_result"
    }
   ],
   "source": [
    "rdd = sc.parallelize([1,2,3,4,5])\n",
    "rdd.reduce(lambda x,y : x+y)"
   ]
  },
  {
   "cell_type": "markdown",
   "metadata": {},
   "source": [
    "#####3.take:\n",
    "Return an list with the first n elements of the dataset. "
   ]
  },
  {
   "cell_type": "code",
   "execution_count": 64,
   "metadata": {
    "collapsed": false
   },
   "outputs": [
    {
     "data": {
      "text/plain": [
       "[1, 2, 3]"
      ]
     },
     "execution_count": 64,
     "metadata": {},
     "output_type": "execute_result"
    }
   ],
   "source": [
    "rdd = sc.parallelize([1,2,3,4,5])\n",
    "rdd.take(3)"
   ]
  },
  {
   "cell_type": "markdown",
   "metadata": {},
   "source": [
    "#####4. takeOrdered:\n",
    "Return the first n elements of the RDD using either their natural order or a custom comparator. "
   ]
  },
  {
   "cell_type": "code",
   "execution_count": 65,
   "metadata": {
    "collapsed": false
   },
   "outputs": [
    {
     "data": {
      "text/plain": [
       "[23, 12, 5]"
      ]
     },
     "execution_count": 65,
     "metadata": {},
     "output_type": "execute_result"
    }
   ],
   "source": [
    "rdd = sc.parallelize([5,3,12,23])\n",
    "rdd.takeOrdered(3,lambda s:-1*s)      # descending order"
   ]
  },
  {
   "cell_type": "code",
   "execution_count": 66,
   "metadata": {
    "collapsed": false
   },
   "outputs": [
    {
     "data": {
      "text/plain": [
       "[(12, 344), (3, 34), (23, 29)]"
      ]
     },
     "execution_count": 66,
     "metadata": {},
     "output_type": "execute_result"
    }
   ],
   "source": [
    "rdd = sc.parallelize([(5,23),(3,34),(12,344),(23,29)])\n",
    "rdd.takeOrdered(3,lambda s:-1*s[1])      # descending order"
   ]
  },
  {
   "cell_type": "markdown",
   "metadata": {},
   "source": [
    "###Understanding The WordCount Example\n",
    "\n",
    "Now we sort of understand the transformations and the actions provided to us by Spark. It should not be difficult to understand the work count program now. Lets go through the program niw line by line.\n",
    "\n",
    "The first lines creates a RDD and distributeds to the workers.\n",
    "\n",
    "    lines = sc.textFile(\"data/cs100/lab1/shakespeare.txt\")  \n",
    "This RDD lines contains a list of strings that are actually the line in file. This RDD is of the form:\n",
    "\n",
    "***['word1 word2 word3','word4 word3 word2']***\n",
    "\n",
    "\n",
    "This next line is actually the workhorse function in the whole script. \n",
    "\n",
    "    counts = (lines.flatMap(lambda x: x.split(' '))          # Create a list with all words\n",
    "                      .map(lambda x: (x, 1))                 # Create a tuple for every word, (word,1)\n",
    "                      .reduceByKey(lambda x,y : x + y))      # reduce by key i.e. the word\n",
    "\n",
    "It contains a series of transformations that we do to the lines RDD. First of all we do a flatmap transformation. The flatmap transformation takes as input the lines and gives words as output. So after the flatmap transformation the RDD is of the form:   \n",
    "***['word1','word2','word3','word4','word3','word2']***. \n",
    "\n",
    "Next we do a map transformation on the flatmap output which converts the rdd to :\n",
    "\n",
    "***[('word1',1),('word2',1),('word3',1),('word4',1),('word3',1),('word2',1)]***. \n",
    "\n",
    "Finally we do a reduceByKey transformation which counts the number of time each word appeared. After which the rdd approaches the final desirable form.\n",
    "\n",
    "***[('word1',1),('word2',2),('word3',2),('word4',1)]***. \n",
    "\n",
    "This next line is an action that takes the first 10 elements of the resulting RDD locally.\n",
    "\n",
    "    output = counts.take(10)                                 # get the output on local\n",
    "\n",
    "This line just prints the output\n",
    "\n",
    "    for (word, count) in output:                             # print output\n",
    "        print(\"%s: %i\" % (word, count))\n",
    "\n"
   ]
  },
  {
   "cell_type": "markdown",
   "metadata": {},
   "source": [
    "###Getting Serious\n",
    "\n",
    "So till now we have talked about the Wordcount example and the basic transformations and actions that you could use in Spark. But we don't do wordcount in real life. We have to work on bigger problems which are much more complex. Worry not! whatever we have learned till now will let us do that and more.\n",
    "\n",
    "Lets work with a concrete example:\n",
    "I will work on an example in which Greg Rada Worked on Movielens Data with Pandas (BTW a great resource to learn Pandas). This example takes care of every sort of transformation that you may like to do with this data.\n",
    "\n",
    "So lets first talk about the dataset. The movielens dataset contains a lot of files but we are going to be working with 3 files only:\n",
    "\n",
    "1) Users: This file name is kept as \"u.user\", The columns in this file are:\n",
    "    \n",
    "    ['user_id', 'age', 'sex', 'occupation', 'zip_code']\n",
    "    \n",
    "2) Ratings: This file name is kept as \"u.data\", The columns in this file are:\n",
    "    \n",
    "    ['user_id', 'movie_id', 'rating', 'unix_timestamp']\n",
    "    \n",
    "3) Movies: This file name is kept as \"u.item\", The columns in this file are:\n",
    "    \n",
    "    ['movie_id', 'title', 'release_date', 'video_release_date', 'imdb_url', and 18 more columns.....]\n",
    "\n",
    "####What are the 25 most rated movies?\n",
    "First of all lets load the data in different rdds. And see what the data contains."
   ]
  },
  {
   "cell_type": "code",
   "execution_count": 67,
   "metadata": {
    "collapsed": false
   },
   "outputs": [
    {
     "name": "stdout",
     "output_type": "stream",
     "text": [
      "userRDD: [u'1|24|M|technician|85711']\n",
      "ratingRDD: [u'196\\t242\\t3\\t881250949']\n",
      "movieRDD: [u'1|Toy Story (1995)|01-Jan-1995||http://us.imdb.com/M/title-exact?Toy%20Story%20(1995)|0|0|0|1|1|1|0|0|0|0|0|0|0|0|0|0|0|0|0']\n"
     ]
    }
   ],
   "source": [
    "userRDD = sc.textFile(\"/vagrant/ml-100k/u.user\") \n",
    "ratingRDD = sc.textFile(\"/vagrant/ml-100k/u.data\") \n",
    "movieRDD = sc.textFile(\"/vagrant/ml-100k/u.item\") \n",
    "print \"userRDD:\",userRDD.take(1)\n",
    "print \"ratingRDD:\",ratingRDD.take(1)\n",
    "print \"movieRDD:\",movieRDD.take(1)"
   ]
  },
  {
   "cell_type": "markdown",
   "metadata": {},
   "source": [
    "Seeing the data we note that to answer this question we will need to use the ratingRdd. But the ratingRDD does not have movie name. So we would have to merge movieRDD and ratingRDD. So lets see how we would do that in Spark.\n",
    "Lets first do it step by step."
   ]
  },
  {
   "cell_type": "code",
   "execution_count": 69,
   "metadata": {
    "collapsed": false
   },
   "outputs": [
    {
     "name": "stdout",
     "output_type": "stream",
     "text": [
      "RDD_movid_rating: [(u'242', u'3'), (u'302', u'3'), (u'377', u'1'), (u'51', u'2')]\n",
      "RDD_movid_title: [(u'1', u'Toy Story (1995)'), (u'2', u'GoldenEye (1995)')]\n",
      "rdd_movid_title_rating: [(u'429', (u'5', u'Day the Earth Stood Still, The (1951)'))]\n",
      "rdd_title_rating: [(u'Day the Earth Stood Still, The (1951)', 1), (u'Day the Earth Stood Still, The (1951)', 1)]\n",
      "rdd_title_ratingcnt: [(u'To Cross the Rubicon (1991)', 1), (u'Adventures of Pinocchio, The (1996)', 39)]\n",
      "#####################################\n",
      "25 most rated movies: [(u'Star Wars (1977)', 583), (u'Contact (1997)', 509), (u'Fargo (1996)', 508), (u'Return of the Jedi (1983)', 507), (u'Liar Liar (1997)', 485), (u'English Patient, The (1996)', 481), (u'Scream (1996)', 478), (u'Toy Story (1995)', 452), (u'Air Force One (1997)', 431), (u'Independence Day (ID4) (1996)', 429), (u'Raiders of the Lost Ark (1981)', 420), (u'Godfather, The (1972)', 413), (u'Pulp Fiction (1994)', 394), (u'Twelve Monkeys (1995)', 392), (u'Silence of the Lambs, The (1991)', 390), (u'Jerry Maguire (1996)', 384), (u'Chasing Amy (1997)', 379), (u'Rock, The (1996)', 378), (u'Empire Strikes Back, The (1980)', 367), (u'Star Trek: First Contact (1996)', 365), (u'Back to the Future (1985)', 350), (u'Titanic (1997)', 350), (u'Mission: Impossible (1996)', 344), (u'Fugitive, The (1993)', 336), (u'Indiana Jones and the Last Crusade (1989)', 331)]\n",
      "#####################################\n"
     ]
    }
   ],
   "source": [
    "# Create a RDD from RatingRDD that only contains the two columns of interest i.e. movie_id,rating.\n",
    "RDD_movid_rating = ratingRDD.map(lambda x : (x.split(\"\\t\")[1],x.split(\"\\t\")[2]))\n",
    "print \"RDD_movid_rating:\",RDD_movid_rating.take(4)\n",
    "\n",
    "# Create a RDD from MovieRDD that only contains the two columns of interest i.e. movie_id,title.\n",
    "RDD_movid_title = movieRDD.map(lambda x : (x.split(\"|\")[0],x.split(\"|\")[1]))\n",
    "print \"RDD_movid_title:\",RDD_movid_title.take(2)\n",
    "\n",
    "# merge these two pair RDDs based on movie_id. For this we will use the transformation leftOuterJoin()\n",
    "rdd_movid_title_rating = RDD_movid_rating.leftOuterJoin(RDD_movid_title)\n",
    "print \"rdd_movid_title_rating:\",rdd_movid_title_rating.take(1)\n",
    "\n",
    "# use the RDD in previous step to create (movie,1) tuple pair RDD\n",
    "rdd_title_rating = rdd_movid_title_rating.map(lambda x: (x[1][1],1 ))\n",
    "print \"rdd_title_rating:\",rdd_title_rating.take(2)\n",
    "\n",
    "# Use the reduceByKey transformation to reduce on the basis of movie_title\n",
    "rdd_title_ratingcnt = rdd_title_rating.reduceByKey(lambda x,y: x+y)\n",
    "print \"rdd_title_ratingcnt:\",rdd_title_ratingcnt.take(2)\n",
    "\n",
    "# Get the final answer by using takeOrdered Transformation\n",
    "print \"#####################################\"\n",
    "print \"25 most rated movies:\",rdd_title_ratingcnt.takeOrdered(25,lambda x:-x[1])\n",
    "print \"#####################################\"\n",
    "\n"
   ]
  },
  {
   "cell_type": "markdown",
   "metadata": {},
   "source": [
    "We could have done all this in a single command using the below command but the code is a little messy now. I did this to show that you can do things sequentially with Spark and you could bypass the process of variable creation."
   ]
  },
  {
   "cell_type": "code",
   "execution_count": 71,
   "metadata": {
    "collapsed": false
   },
   "outputs": [
    {
     "name": "stdout",
     "output_type": "stream",
     "text": [
      "[(u'Star Wars (1977)', 583), (u'Contact (1997)', 509), (u'Fargo (1996)', 508), (u'Return of the Jedi (1983)', 507), (u'Liar Liar (1997)', 485), (u'English Patient, The (1996)', 481), (u'Scream (1996)', 478), (u'Toy Story (1995)', 452), (u'Air Force One (1997)', 431), (u'Independence Day (ID4) (1996)', 429), (u'Raiders of the Lost Ark (1981)', 420), (u'Godfather, The (1972)', 413), (u'Pulp Fiction (1994)', 394), (u'Twelve Monkeys (1995)', 392), (u'Silence of the Lambs, The (1991)', 390), (u'Jerry Maguire (1996)', 384), (u'Chasing Amy (1997)', 379), (u'Rock, The (1996)', 378), (u'Empire Strikes Back, The (1980)', 367), (u'Star Trek: First Contact (1996)', 365), (u'Back to the Future (1985)', 350), (u'Titanic (1997)', 350), (u'Mission: Impossible (1996)', 344), (u'Fugitive, The (1993)', 336), (u'Indiana Jones and the Last Crusade (1989)', 331)]\n"
     ]
    }
   ],
   "source": [
    "print (((ratingRDD.map(lambda x : (x.split(\"\\t\")[1],x.split(\"\\t\")[2]))).\n",
    " leftOuterJoin(movieRDD.map(lambda x : (x.split(\"|\")[0],x.split(\"|\")[1])))).map(lambda x: (x[1][1],1)).\n",
    " reduceByKey(lambda x,y: x+y).takeOrdered(25,lambda x:-x[1]))"
   ]
  },
  {
   "cell_type": "markdown",
   "metadata": {},
   "source": [
    "###Which movies are most highly rated?\n",
    "Now we want to find the most highly rated 25 movvies using the same dataset. We actually want only those movies which have been rated atleast 100 times. \n",
    "Lets do this using Spark:"
   ]
  },
  {
   "cell_type": "code",
   "execution_count": 46,
   "metadata": {
    "collapsed": false
   },
   "outputs": [
    {
     "name": "stdout",
     "output_type": "stream",
     "text": [
      "rdd_title_ratingsum: [(u'To Cross the Rubicon (1991)', 1), (u'Adventures of Pinocchio, The (1996)', 119)]\n",
      "rdd_title_ratingmean_rating_count: [(u'To Cross the Rubicon (1991)', (1.0, 1))]\n",
      "rdd_title_rating_rating_count_gt_100: [(u'Bound (1996)', (3.8217054263565893, 129))]\n",
      "#####################################\n",
      "25 highly rated movies: [(u'Close Shave, A (1995)', (4.491071428571429, 112)), (u\"Schindler's List (1993)\", (4.466442953020135, 298)), (u'Wrong Trousers, The (1993)', (4.466101694915254, 118)), (u'Casablanca (1942)', (4.45679012345679, 243)), (u'Shawshank Redemption, The (1994)', (4.445229681978798, 283)), (u'Rear Window (1954)', (4.3875598086124405, 209)), (u'Usual Suspects, The (1995)', (4.385767790262173, 267)), (u'Star Wars (1977)', (4.3584905660377355, 583)), (u'12 Angry Men (1957)', (4.344, 125)), (u'Citizen Kane (1941)', (4.292929292929293, 198)), (u'To Kill a Mockingbird (1962)', (4.292237442922374, 219)), (u\"One Flew Over the Cuckoo's Nest (1975)\", (4.291666666666667, 264)), (u'Silence of the Lambs, The (1991)', (4.28974358974359, 390)), (u'North by Northwest (1959)', (4.284916201117318, 179)), (u'Godfather, The (1972)', (4.283292978208232, 413)), (u'Secrets & Lies (1996)', (4.265432098765432, 162)), (u'Good Will Hunting (1997)', (4.262626262626263, 198)), (u'Manchurian Candidate, The (1962)', (4.259541984732825, 131)), (u'Dr. Strangelove or: How I Learned to Stop Worrying and Love the Bomb (1963)', (4.252577319587629, 194)), (u'Raiders of the Lost Ark (1981)', (4.252380952380952, 420)), (u'Vertigo (1958)', (4.251396648044692, 179)), (u'Titanic (1997)', (4.2457142857142856, 350)), (u'Lawrence of Arabia (1962)', (4.23121387283237, 173)), (u'Maltese Falcon, The (1941)', (4.2101449275362315, 138)), (u'Empire Strikes Back, The (1980)', (4.204359673024523, 367))]\n",
      "#####################################\n"
     ]
    }
   ],
   "source": [
    "# We already have the RDD rdd_movid_title_rating: [(u'429', (u'5', u'Day the Earth Stood Still, The (1951)'))]\n",
    "# We create an RDD that contains sum of all the ratings for a particular movie\n",
    "rdd_title_ratingsum = rdd_movid_title_rating.map(lambda x: (x[1][1],int(x[1][0]))).reduceByKey(lambda x,y:x+y)\n",
    "print \"rdd_title_ratingsum:\",rdd_title_ratingsum.take(2)\n",
    "\n",
    "# Merge this data with the RDD rdd_title_ratingcnt we created in the last step \n",
    "# And use Map function to divide ratingsum by rating count.\n",
    "rdd_title_ratingmean_rating_count = (rdd_title_ratingsum.leftOuterJoin(rdd_title_ratingcnt).\n",
    "                                    map(lambda x:(x[0],(float(x[1][0])/x[1][1],x[1][1]))))\n",
    "print \"rdd_title_ratingmean_rating_count:\",rdd_title_ratingmean_rating_count.take(1)\n",
    "\n",
    "# We could use take ordered here only but we want to only get the movies which have count\n",
    "# of ratings more than or equal to 100 so lets filter the data RDD.\n",
    "rdd_title_rating_rating_count_gt_100 = rdd_title_ratingmean_rating_count.filter(lambda x: x[1][1]>=100)\n",
    "print \"rdd_title_rating_rating_count_gt_100:\",rdd_title_rating_rating_count_gt_100.take(1)\n",
    "\n",
    "# Get the final answer by using takeOrdered Transformation\n",
    "print \"#####################################\"\n",
    "print \"25 highly rated movies:\",rdd_title_rating_rating_count_gt_100.takeOrdered(25,lambda x:-x[1][0])\n",
    "print \"#####################################\""
   ]
  },
  {
   "cell_type": "markdown",
   "metadata": {},
   "source": [
    "##Conclusion\n",
    "\n",
    "So Spark has Already provided an interface where we could apply transformations sequentially much easily than Hadoop.\n",
    "And it is fast. While in hadoop things are a pain to do sequentially, the infrastructure that Spark provides seem to fit naturally into the analytics use case. \n",
    "\n",
    "Hopefully I've covered the basics well enough to pique your interest and help you get started with the Spark. If I've missed something critical, feel free to let me know on Twitter or in the comments - I'd love constructive feedback."
   ]
  }
 ],
 "metadata": {
  "kernelspec": {
   "display_name": "Python 2",
   "language": "python",
   "name": "python2"
  },
  "language_info": {
   "codemirror_mode": {
    "name": "ipython",
    "version": 2
   },
   "file_extension": ".py",
   "mimetype": "text/x-python",
   "name": "python",
   "nbconvert_exporter": "python",
   "pygments_lexer": "ipython2",
   "version": "2.7.6"
  }
 },
 "nbformat": 4,
 "nbformat_minor": 0
}
